{
 "cells": [
  {
   "cell_type": "code",
   "execution_count": 1,
   "metadata": {},
   "outputs": [
    {
     "name": "stdout",
     "output_type": "stream",
     "text": [
      "13\n",
      "3\n",
      "1.6\n",
      "40\n",
      "32768\n",
      "3\n",
      "1\n"
     ]
    }
   ],
   "source": [
    "a = 8\n",
    "b = 5\n",
    "add = a + b #Addition\n",
    "sub = a - b #Subtraction\n",
    "div = a / b #Division\n",
    "mul = a * b #Multiplication\n",
    "exp = a ** b #Exponent (Power)\n",
    "mod = a % b #Modulus\n",
    "floo = a // b #Floor division\n",
    "print(add, sub, div, mul, exp, mod, floo, sep='\\n')"
   ]
  }
 ],
 "metadata": {
  "kernelspec": {
   "display_name": "Python 3",
   "language": "python",
   "name": "python3"
  },
  "language_info": {
   "codemirror_mode": {
    "name": "ipython",
    "version": 3
   },
   "file_extension": ".py",
   "mimetype": "text/x-python",
   "name": "python",
   "nbconvert_exporter": "python",
   "pygments_lexer": "ipython3",
   "version": "3.7.3"
  }
 },
 "nbformat": 4,
 "nbformat_minor": 2
}
