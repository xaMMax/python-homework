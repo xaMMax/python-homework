{
 "cells": [
  {
   "cell_type": "code",
   "execution_count": 2,
   "metadata": {},
   "outputs": [
    {
     "name": "stdout",
     "output_type": "stream",
     "text": [
      "#########\n",
      "#\t#\n",
      "#\t#\n",
      "#\t#\n",
      "#########\n",
      "\n",
      "#\t#\n",
      "#\t#\n",
      "#########\n",
      "#\t#\n",
      "#\t#\n"
     ]
    }
   ],
   "source": [
    "s = '\\n#'    #ent\n",
    "l = '\\t#'    #tab\n",
    "ln = '#' * 9 #line\n",
    "print(ln + (s+l) * 3 + '\\n' + ln) \n",
    "print((s+l)*2 + '\\n' + ln + (s+l)*2)"
   ]
  },
  {
   "cell_type": "code",
   "execution_count": null,
   "metadata": {},
   "outputs": [],
   "source": []
  }
 ],
 "metadata": {
  "kernelspec": {
   "display_name": "Python 3",
   "language": "python",
   "name": "python3"
  },
  "language_info": {
   "codemirror_mode": {
    "name": "ipython",
    "version": 3
   },
   "file_extension": ".py",
   "mimetype": "text/x-python",
   "name": "python",
   "nbconvert_exporter": "python",
   "pygments_lexer": "ipython3",
   "version": "3.7.3"
  }
 },
 "nbformat": 4,
 "nbformat_minor": 2
}
